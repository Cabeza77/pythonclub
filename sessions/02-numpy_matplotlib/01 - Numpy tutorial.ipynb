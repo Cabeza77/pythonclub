{
 "cells": [
  {
   "cell_type": "markdown",
   "metadata": {},
   "source": [
    "## Introduction to Numpy\n",
    "\n",
    "\n",
    "**Author:** Roberto P. Muñoz<br />\n",
    "**Email:** <rmunoz@uc.cl>\n",
    "\n",
    "<a href=\"http://www.numpy.org\">NumPy</a> is the fundamental package for scientific computing with Python.<br />\n",
    "You can visit the <a href=\"https://github.com/numpy/numpy\"> Github repository<a>"
   ]
  },
  {
   "cell_type": "code",
   "execution_count": 12,
   "metadata": {
    "collapsed": true
   },
   "outputs": [],
   "source": [
    "from __future__ import print_function "
   ]
  },
  {
   "cell_type": "markdown",
   "metadata": {},
   "source": [
    "### Review of Python data types and structures\n",
    "\n",
    "- Numeric types\n",
    " - int\n",
    " - float \n",
    " - long\n",
    " - complex"
   ]
  },
  {
   "cell_type": "code",
   "execution_count": 13,
   "metadata": {
    "collapsed": false
   },
   "outputs": [
    {
     "name": "stdout",
     "output_type": "stream",
     "text": [
      "2 <type 'int'>\n",
      "2 <type 'int'>\n"
     ]
    }
   ],
   "source": [
    "x=int(2)\n",
    "print(x, type(x))\n",
    "\n",
    "x=2\n",
    "print(x, type(x))"
   ]
  },
  {
   "cell_type": "code",
   "execution_count": 14,
   "metadata": {
    "collapsed": false
   },
   "outputs": [
    {
     "name": "stdout",
     "output_type": "stream",
     "text": [
      "(1+2j) <type 'complex'>\n",
      "(1+2j) <type 'complex'>\n"
     ]
    }
   ],
   "source": [
    "x=complex(1,2)\n",
    "print(x, type(x))\n",
    "\n",
    "x=1+2*1j\n",
    "print(x, type(x))"
   ]
  },
  {
   "cell_type": "markdown",
   "metadata": {},
   "source": [
    "- Data structures\n",
    " - Tuple  // Immutable and usually heterogeous sequence of elements\n",
    " - List  // Mutable and usually homogeneous\n",
    " - Dictionary"
   ]
  },
  {
   "cell_type": "code",
   "execution_count": 25,
   "metadata": {
    "collapsed": false
   },
   "outputs": [
    {
     "name": "stdout",
     "output_type": "stream",
     "text": [
      "(1, 2, 3, 4) <type 'tuple'>\n"
     ]
    }
   ],
   "source": [
    "# Tuple\n",
    "x=(1,2,3,4)\n",
    "print(x, type(x))"
   ]
  },
  {
   "cell_type": "code",
   "execution_count": 26,
   "metadata": {
    "collapsed": false
   },
   "outputs": [
    {
     "ename": "TypeError",
     "evalue": "'tuple' object does not support item assignment",
     "output_type": "error",
     "traceback": [
      "\u001b[0;31m---------------------------------------------------------------------------\u001b[0m",
      "\u001b[0;31mTypeError\u001b[0m                                 Traceback (most recent call last)",
      "\u001b[0;32m<ipython-input-26-daf4894e32bf>\u001b[0m in \u001b[0;36m<module>\u001b[0;34m()\u001b[0m\n\u001b[0;32m----> 1\u001b[0;31m \u001b[0mx\u001b[0m\u001b[0;34m[\u001b[0m\u001b[0;36m0\u001b[0m\u001b[0;34m]\u001b[0m\u001b[0;34m=\u001b[0m\u001b[0;36m100\u001b[0m\u001b[0;34m\u001b[0m\u001b[0m\n\u001b[0m\u001b[1;32m      2\u001b[0m \u001b[0;32mprint\u001b[0m\u001b[0;34m(\u001b[0m\u001b[0mx\u001b[0m\u001b[0;34m)\u001b[0m\u001b[0;34m\u001b[0m\u001b[0m\n",
      "\u001b[0;31mTypeError\u001b[0m: 'tuple' object does not support item assignment"
     ]
    }
   ],
   "source": [
    "x[0]=100\n",
    "print(x)"
   ]
  },
  {
   "cell_type": "code",
   "execution_count": 68,
   "metadata": {
    "collapsed": false
   },
   "outputs": [
    {
     "name": "stdout",
     "output_type": "stream",
     "text": [
      "[1, 2, 3, 4] <type 'list'>\n"
     ]
    }
   ],
   "source": [
    "# List\n",
    "x=[1,2,3,4]\n",
    "print(x, type(x))"
   ]
  },
  {
   "cell_type": "code",
   "execution_count": 69,
   "metadata": {
    "collapsed": false
   },
   "outputs": [
    {
     "name": "stdout",
     "output_type": "stream",
     "text": [
      "[100, 2, 3, 4]\n"
     ]
    }
   ],
   "source": [
    "x[0]=100\n",
    "print(x)"
   ]
  },
  {
   "cell_type": "code",
   "execution_count": 70,
   "metadata": {
    "collapsed": false
   },
   "outputs": [
    {
     "name": "stdout",
     "output_type": "stream",
     "text": [
      "[100, 2, 3, 4, 5] <type 'list'>\n"
     ]
    }
   ],
   "source": [
    "# Add elements to the end\n",
    "x.append(5)\n",
    "print(x, type(x))"
   ]
  },
  {
   "cell_type": "code",
   "execution_count": 71,
   "metadata": {
    "collapsed": false
   },
   "outputs": [
    {
     "name": "stdout",
     "output_type": "stream",
     "text": [
      "[100, 2, 3, 4, 5, 6, 7, 8, 9] <type 'list'>\n"
     ]
    }
   ],
   "source": [
    "# Extend\n",
    "y=[6,7,8,9]\n",
    "x.extend(y)\n",
    "print(x, type(x))"
   ]
  },
  {
   "cell_type": "code",
   "execution_count": 72,
   "metadata": {
    "collapsed": false
   },
   "outputs": [
    {
     "name": "stdout",
     "output_type": "stream",
     "text": [
      "[200, 100, 2, 3, 4, 5, 6, 7, 8, 9] <type 'list'>\n"
     ]
    }
   ],
   "source": [
    "# Insert 200 at position 0\n",
    "x.insert(0,200)\n",
    "print(x, type(x))"
   ]
  },
  {
   "cell_type": "code",
   "execution_count": 73,
   "metadata": {
    "collapsed": false
   },
   "outputs": [
    {
     "name": "stdout",
     "output_type": "stream",
     "text": [
      "[200, 100, 0, 2, 3, 4, 5, 6, 7, 8, 9] <type 'list'>\n"
     ]
    }
   ],
   "source": [
    "# Inser 0 ar position 2\n",
    "x.insert(2,0)\n",
    "print(x, type(x))"
   ]
  },
  {
   "cell_type": "code",
   "execution_count": 74,
   "metadata": {
    "collapsed": false
   },
   "outputs": [
    {
     "name": "stdout",
     "output_type": "stream",
     "text": [
      "[200, 0, 2, 3, 4, 5, 6, 7, 8, 9] <type 'list'>\n"
     ]
    }
   ],
   "source": [
    "# Remove element with value of 100\n",
    "x.remove(100)\n",
    "print(x, type(x))"
   ]
  },
  {
   "cell_type": "code",
   "execution_count": 75,
   "metadata": {
    "collapsed": false
   },
   "outputs": [
    {
     "ename": "ValueError",
     "evalue": "list.remove(x): x not in list",
     "output_type": "error",
     "traceback": [
      "\u001b[0;31m---------------------------------------------------------------------------\u001b[0m",
      "\u001b[0;31mValueError\u001b[0m                                Traceback (most recent call last)",
      "\u001b[0;32m<ipython-input-75-f714ced2532f>\u001b[0m in \u001b[0;36m<module>\u001b[0;34m()\u001b[0m\n\u001b[1;32m      1\u001b[0m \u001b[0;31m# Remove element with value of 300\u001b[0m\u001b[0;34m\u001b[0m\u001b[0;34m\u001b[0m\u001b[0m\n\u001b[0;32m----> 2\u001b[0;31m \u001b[0mx\u001b[0m\u001b[0;34m.\u001b[0m\u001b[0mremove\u001b[0m\u001b[0;34m(\u001b[0m\u001b[0;36m300\u001b[0m\u001b[0;34m)\u001b[0m\u001b[0;34m\u001b[0m\u001b[0m\n\u001b[0m\u001b[1;32m      3\u001b[0m \u001b[0;32mprint\u001b[0m\u001b[0;34m(\u001b[0m\u001b[0mx\u001b[0m\u001b[0;34m,\u001b[0m \u001b[0mtype\u001b[0m\u001b[0;34m(\u001b[0m\u001b[0mx\u001b[0m\u001b[0;34m)\u001b[0m\u001b[0;34m)\u001b[0m\u001b[0;34m\u001b[0m\u001b[0m\n",
      "\u001b[0;31mValueError\u001b[0m: list.remove(x): x not in list"
     ]
    }
   ],
   "source": [
    "# Remove element with value of 300\n",
    "x.remove(300)\n",
    "print(x, type(x))"
   ]
  },
  {
   "cell_type": "code",
   "execution_count": 76,
   "metadata": {
    "collapsed": false
   },
   "outputs": [
    {
     "name": "stdout",
     "output_type": "stream",
     "text": [
      "[0, 2, 3, 4, 5, 6, 7, 8, 9] <type 'list'>\n"
     ]
    }
   ],
   "source": [
    "# Remove element give the index\n",
    "del x[0]\n",
    "print(x, type(x))"
   ]
  },
  {
   "cell_type": "code",
   "execution_count": 77,
   "metadata": {
    "collapsed": false
   },
   "outputs": [
    {
     "name": "stdout",
     "output_type": "stream",
     "text": [
      "[0, 2, 3, 4, 5, 6, 7, 8, 9] <type 'list'>\n"
     ]
    }
   ],
   "source": [
    "# Sort\n",
    "x.sort()\n",
    "print(x, type(x))"
   ]
  },
  {
   "cell_type": "code",
   "execution_count": 79,
   "metadata": {
    "collapsed": false
   },
   "outputs": [
    {
     "name": "stdout",
     "output_type": "stream",
     "text": [
      "{'brazil': 209567920.0, 'chile': 18131850.0, 'colombia': 48654392.0, 'mexico': 128632004.0, 'peru': 31774225.0, 'argentina': 43847277.0, 'venezuela': 31518855.0} <type 'dict'>\n"
     ]
    }
   ],
   "source": [
    "# Dictionary\n",
    "population={'brazil':209.567920e6, 'mexico':128.632004e6, 'colombia':48.654392e6, 'argentina': 43.847277e6,\n",
    "            'peru': 31.774225e6,  'venezuela': 31.518855e6, 'chile': 18.131850e6}\n",
    "print(population, type(population))"
   ]
  },
  {
   "cell_type": "code",
   "execution_count": 84,
   "metadata": {
    "collapsed": false
   },
   "outputs": [
    {
     "data": {
      "text/plain": [
       "['brazil',\n",
       " 'chile',\n",
       " 'colombia',\n",
       " 'mexico',\n",
       " 'guatemala',\n",
       " 'peru',\n",
       " 'argentina',\n",
       " 'venezuela']"
      ]
     },
     "execution_count": 84,
     "metadata": {},
     "output_type": "execute_result"
    }
   ],
   "source": [
    "population.keys()"
   ]
  },
  {
   "cell_type": "code",
   "execution_count": 82,
   "metadata": {
    "collapsed": false
   },
   "outputs": [
    {
     "data": {
      "text/plain": [
       "18131850.0"
      ]
     },
     "execution_count": 82,
     "metadata": {},
     "output_type": "execute_result"
    }
   ],
   "source": [
    "population['chile']"
   ]
  },
  {
   "cell_type": "code",
   "execution_count": 83,
   "metadata": {
    "collapsed": false
   },
   "outputs": [
    {
     "name": "stdout",
     "output_type": "stream",
     "text": [
      "{'brazil': 209567920.0, 'chile': 18131850.0, 'colombia': 48654392.0, 'mexico': 128632004.0, 'guatemala': 16672956.0, 'peru': 31774225.0, 'argentina': 43847277.0, 'venezuela': 31518855.0}\n"
     ]
    }
   ],
   "source": [
    "population['guatemala']=16.672956e6\n",
    "print(population)"
   ]
  },
  {
   "cell_type": "code",
   "execution_count": 88,
   "metadata": {
    "collapsed": false
   },
   "outputs": [
    {
     "name": "stdout",
     "output_type": "stream",
     "text": [
      "brazil\n",
      "chile\n",
      "colombia\n",
      "mexico\n",
      "guatemala\n",
      "peru\n",
      "argentina\n",
      "venezuela\n"
     ]
    }
   ],
   "source": [
    "for key in population:\n",
    "    print(key)"
   ]
  },
  {
   "cell_type": "code",
   "execution_count": 89,
   "metadata": {
    "collapsed": false
   },
   "outputs": [
    {
     "name": "stdout",
     "output_type": "stream",
     "text": [
      "brazil 209567920.0\n",
      "chile 18131850.0\n",
      "colombia 48654392.0\n",
      "mexico 128632004.0\n",
      "guatemala 16672956.0\n",
      "peru 31774225.0\n",
      "argentina 43847277.0\n",
      "venezuela 31518855.0\n"
     ]
    }
   ],
   "source": [
    "for key, value in population.iteritems():\n",
    "    print(key, value)"
   ]
  },
  {
   "cell_type": "markdown",
   "metadata": {},
   "source": [
    "### Numpy"
   ]
  },
  {
   "cell_type": "markdown",
   "metadata": {},
   "source": [
    "Why using Numpy? Let's say you have two lists and you want to add them as vectors"
   ]
  },
  {
   "cell_type": "code",
   "execution_count": 95,
   "metadata": {
    "collapsed": false
   },
   "outputs": [
    {
     "name": "stdout",
     "output_type": "stream",
     "text": [
      "[1, 2, 3, 4, 5, 6, 7, 8]\n"
     ]
    }
   ],
   "source": [
    "x=[1,2,3,4]\n",
    "y=[5,6,7,8]\n",
    "print(x+y)"
   ]
  },
  {
   "cell_type": "code",
   "execution_count": 96,
   "metadata": {
    "collapsed": false
   },
   "outputs": [
    {
     "name": "stdout",
     "output_type": "stream",
     "text": [
      "1.11.1\n"
     ]
    }
   ],
   "source": [
    "import numpy as np\n",
    "print(np.__version__)"
   ]
  },
  {
   "cell_type": "code",
   "execution_count": 128,
   "metadata": {
    "collapsed": false
   },
   "outputs": [
    {
     "name": "stdout",
     "output_type": "stream",
     "text": [
      "[1 2 3 4]\n",
      "type(x):  <type 'numpy.ndarray'>\n",
      "x.dtype:  int64\n",
      "x.size:  4\n",
      "x.shape:  (4,)\n"
     ]
    }
   ],
   "source": [
    "# Define 1D array\n",
    "x = np.array([1,2,3,4])\n",
    "print(x)\n",
    "print('type(x): ', type(x))\n",
    "print('x.dtype: ', x.dtype)\n",
    "print('x.size: ', x.size)\n",
    "print('x.shape: ', x.shape)"
   ]
  },
  {
   "cell_type": "code",
   "execution_count": 100,
   "metadata": {
    "collapsed": false
   },
   "outputs": [
    {
     "name": "stdout",
     "output_type": "stream",
     "text": [
      "[ 6  8 10 12]\n"
     ]
    }
   ],
   "source": [
    "# Add two arrays\n",
    "y = np.array([5,6,7,8])\n",
    "print(x+y)"
   ]
  },
  {
   "cell_type": "code",
   "execution_count": 109,
   "metadata": {
    "collapsed": false
   },
   "outputs": [
    {
     "name": "stdout",
     "output_type": "stream",
     "text": [
      "[[1 2 3 4]\n",
      " [5 6 7 8]]\n",
      "<type 'numpy.ndarray'>\n",
      "8\n",
      "(2, 4)\n"
     ]
    }
   ],
   "source": [
    "# Define a 2D array\n",
    "x= np.array([[1,2,3,4],[5,6,7,8]])\n",
    "print(x)\n",
    "print(type(x))\n",
    "print(x.size)\n",
    "print(x.shape)"
   ]
  },
  {
   "cell_type": "code",
   "execution_count": 112,
   "metadata": {
    "collapsed": false
   },
   "outputs": [
    {
     "name": "stdout",
     "output_type": "stream",
     "text": [
      "[ 0.  0.  0.  0.  0.  0.  0.  0.  0.  0.]\n",
      "[[ 0.  0.  0.  0.]\n",
      " [ 0.  0.  0.  0.]]\n"
     ]
    }
   ],
   "source": [
    "# Initialize 1D and 2D array with zeros\n",
    "x=np.zeros(10)\n",
    "print(x)\n",
    "\n",
    "x=np.zeros([2,4])\n",
    "print(x)"
   ]
  },
  {
   "cell_type": "code",
   "execution_count": 113,
   "metadata": {
    "collapsed": false
   },
   "outputs": [
    {
     "name": "stdout",
     "output_type": "stream",
     "text": [
      "[ 0.00184004  0.30535411  0.34197401  0.45003444  0.72501196  0.38275626\n",
      "  0.71932856  0.00272694  0.26584826  0.44980935  0.1599838   0.66299047\n",
      "  0.43314803  0.31037093  0.83618332  0.57333035  0.85817215  0.3158536\n",
      "  0.10214068  0.18590634  0.10241169  0.6191833   0.84762627  0.85050126\n",
      "  0.09407985  0.8278464   0.51392924  0.16071183  0.85529426  0.34825094\n",
      "  0.21912778  0.27722969  0.52883157  0.96641633  0.77015916  0.2175592\n",
      "  0.15891917  0.39770525  0.21103248  0.06852896  0.7060274   0.87799726\n",
      "  0.67388995  0.51359284  0.7061061   0.91678013  0.66213885  0.94735797\n",
      "  0.90625369  0.46003202  0.79346082  0.04227974  0.82531052  0.27851822\n",
      "  0.64564871  0.35052117  0.29028755  0.82568035  0.59722627  0.07033725\n",
      "  0.4025791   0.2121411   0.46286794  0.25025617  0.02965827  0.94575648\n",
      "  0.16434211  0.9555548   0.493377    0.03162042  0.561942    0.30757976\n",
      "  0.1074481   0.3628027   0.30726375  0.53983386  0.13419366  0.41803185\n",
      "  0.00765926  0.10729638  0.08371646  0.67827474  0.59943906  0.32998998\n",
      "  0.26924855  0.69834324  0.56524682  0.5921291   0.96952657  0.94861796\n",
      "  0.08052506  0.42961909  0.38446894  0.83694409  0.07549071  0.73229557\n",
      "  0.03170816  0.09779863  0.85348625  0.40562566]\n"
     ]
    }
   ],
   "source": [
    "# Create a random array\n",
    "x=np.random.random(100)\n",
    "print(x)"
   ]
  },
  {
   "cell_type": "code",
   "execution_count": 120,
   "metadata": {
    "collapsed": false
   },
   "outputs": [
    {
     "name": "stdout",
     "output_type": "stream",
     "text": [
      "[[ 1  2  3  4]\n",
      " [ 5  6  7  8]\n",
      " [ 9 10 11 12]]\n",
      "\n",
      "x[0,3]:  4\n",
      "\n",
      "x[:,0]:  [1 5 9]\n",
      "\n",
      "x[0,:]:  [1 2 3 4]\n"
     ]
    }
   ],
   "source": [
    "# Array indexing\n",
    "x= np.array([[1,2,3,4],[5,6,7,8],[9,10,11,12]])\n",
    "print(x)\n",
    "\n",
    "print('\\nx[0,3]: ', x[0,3])\n",
    "\n",
    "print('\\nx[:,0]: ', x[:,0])\n",
    "print('\\nx[0,:]: ', x[0,:])"
   ]
  },
  {
   "cell_type": "code",
   "execution_count": 125,
   "metadata": {
    "collapsed": false
   },
   "outputs": [
    {
     "name": "stdout",
     "output_type": "stream",
     "text": [
      "[[False False False False]\n",
      " [False False  True  True]\n",
      " [ True  True  True  True]]\n"
     ]
    }
   ],
   "source": [
    "# Boolean array indexing for creating masks\n",
    "mask=x>6\n",
    "print(mask)"
   ]
  },
  {
   "cell_type": "code",
   "execution_count": 126,
   "metadata": {
    "collapsed": false
   },
   "outputs": [
    {
     "name": "stdout",
     "output_type": "stream",
     "text": [
      "[ 7  8  9 10 11 12]\n"
     ]
    }
   ],
   "source": [
    "print(x[mask])"
   ]
  },
  {
   "cell_type": "code",
   "execution_count": 105,
   "metadata": {
    "collapsed": false
   },
   "outputs": [
    {
     "data": {
      "text/plain": [
       "array([ 6,  8, 10, 12])"
      ]
     },
     "execution_count": 105,
     "metadata": {},
     "output_type": "execute_result"
    }
   ],
   "source": [
    "# Add 2D array along axis=0\n",
    "x.sum(0)"
   ]
  },
  {
   "cell_type": "code",
   "execution_count": null,
   "metadata": {
    "collapsed": true
   },
   "outputs": [],
   "source": [
    "# Create "
   ]
  }
 ],
 "metadata": {
  "kernelspec": {
   "display_name": "Python 2",
   "language": "python",
   "name": "python2"
  },
  "language_info": {
   "codemirror_mode": {
    "name": "ipython",
    "version": 2
   },
   "file_extension": ".py",
   "mimetype": "text/x-python",
   "name": "python",
   "nbconvert_exporter": "python",
   "pygments_lexer": "ipython2",
   "version": "2.7.12"
  }
 },
 "nbformat": 4,
 "nbformat_minor": 1
}
