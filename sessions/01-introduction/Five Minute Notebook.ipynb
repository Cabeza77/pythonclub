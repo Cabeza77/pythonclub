{
 "cells": [
  {
   "cell_type": "markdown",
   "metadata": {},
   "source": [
    "# A First Brush With Jupyter\n",
    "\n",
    "This notebook will show you some things I find useful to do in these notebooks."
   ]
  },
  {
   "cell_type": "code",
   "execution_count": 1,
   "metadata": {
    "collapsed": false
   },
   "outputs": [
    {
     "name": "stdout",
     "output_type": "stream",
     "text": [
      "Collecting version_information\n",
      "  Downloading version_information-1.0.3.tar.gz\n",
      "Building wheels for collected packages: version-information\n",
      "  Running setup.py bdist_wheel for version-information ... \u001b[?25l-\b \b\\\b \bdone\n",
      "\u001b[?25h  Stored in directory: /Users/joshuapaultan/Library/Caches/pip/wheels/4b/4c/f7/4d99d7820a507d8ae55204fcc00d66cdabf596d4b01228e7bd\n",
      "Successfully built version-information\n",
      "Installing collected packages: version-information\n",
      "Successfully installed version-information-1.0.3\n"
     ]
    }
   ],
   "source": [
    "# you only need to do this once. Shamelessly stolen from Johannsen.\n",
    "!pip install --upgrade version_information"
   ]
  },
  {
   "cell_type": "code",
   "execution_count": 2,
   "metadata": {
    "collapsed": false
   },
   "outputs": [
    {
     "data": {
      "application/json": {
       "Software versions": [
        {
         "module": "Python",
         "version": "2.7.11 64bit [GCC 4.2.1 (Apple Inc. build 5577)]"
        },
        {
         "module": "IPython",
         "version": "4.2.0"
        },
        {
         "module": "OS",
         "version": "Darwin 15.6.0 x86_64 i386 64bit"
        },
        {
         "module": "numpy",
         "version": "1.11.0"
        },
        {
         "module": "scipy",
         "version": "0.17.1"
        },
        {
         "module": "matplotlib",
         "version": "1.5.1"
        },
        {
         "module": "sympy",
         "version": "1.0"
        },
        {
         "module": "version_information",
         "version": "1.0.3"
        }
       ]
      },
      "text/html": [
       "<table><tr><th>Software</th><th>Version</th></tr><tr><td>Python</td><td>2.7.11 64bit [GCC 4.2.1 (Apple Inc. build 5577)]</td></tr><tr><td>IPython</td><td>4.2.0</td></tr><tr><td>OS</td><td>Darwin 15.6.0 x86_64 i386 64bit</td></tr><tr><td>numpy</td><td>1.11.0</td></tr><tr><td>scipy</td><td>0.17.1</td></tr><tr><td>matplotlib</td><td>1.5.1</td></tr><tr><td>sympy</td><td>1.0</td></tr><tr><td>version_information</td><td>1.0.3</td></tr><tr><td colspan='2'>Wed Sep 14 16:01:02 2016 CLST</td></tr></table>"
      ],
      "text/latex": [
       "\\begin{tabular}{|l|l|}\\hline\n",
       "{\\bf Software} & {\\bf Version} \\\\ \\hline\\hline\n",
       "Python & 2.7.11 64bit [GCC 4.2.1 (Apple Inc. build 5577)] \\\\ \\hline\n",
       "IPython & 4.2.0 \\\\ \\hline\n",
       "OS & Darwin 15.6.0 x86\\_64 i386 64bit \\\\ \\hline\n",
       "numpy & 1.11.0 \\\\ \\hline\n",
       "scipy & 0.17.1 \\\\ \\hline\n",
       "matplotlib & 1.5.1 \\\\ \\hline\n",
       "sympy & 1.0 \\\\ \\hline\n",
       "version_information & 1.0.3 \\\\ \\hline\n",
       "\\hline \\multicolumn{2}{|l|}{Wed Sep 14 16:01:02 2016 CLST} \\\\ \\hline\n",
       "\\end{tabular}\n"
      ],
      "text/plain": [
       "Software versions\n",
       "Python 2.7.11 64bit [GCC 4.2.1 (Apple Inc. build 5577)]\n",
       "IPython 4.2.0\n",
       "OS Darwin 15.6.0 x86_64 i386 64bit\n",
       "numpy 1.11.0\n",
       "scipy 0.17.1\n",
       "matplotlib 1.5.1\n",
       "sympy 1.0\n",
       "version_information 1.0.3\n",
       "Wed Sep 14 16:01:02 2016 CLST"
      ]
     },
     "execution_count": 2,
     "metadata": {},
     "output_type": "execute_result"
    }
   ],
   "source": [
    "#Preamble. These are some standard things I like to include in IPython Notebooks.\n",
    "import astropy\n",
    "from astropy.table import Table, Column, MaskedColumn\n",
    "import numpy as np\n",
    "import matplotlib.pyplot as plt\n",
    "%load_ext version_information\n",
    "\n",
    "%version_information numpy, scipy, matplotlib, sympy, version_information"
   ]
  },
  {
   "cell_type": "markdown",
   "metadata": {},
   "source": [
    "You will more than likely want to plot some things. In the notebook environment, this can be done in different ways. I typically choose an inline plot. However, you can also have images from matplotlib run as separate windows or as interactive objects within the notebook."
   ]
  },
  {
   "cell_type": "code",
   "execution_count": 3,
   "metadata": {
    "collapsed": false
   },
   "outputs": [],
   "source": [
    "# special IPython command to prepare the notebook for matplotlib\n",
    "#interactive plotting in separate window\n",
    "#%matplotlib qt \n",
    "#interactive charts inside notebooks, matplotlib 1.4+\n",
    "#%matplotlib notebook  \n",
    "#normal charts inside notebooks\n",
    "%matplotlib inline"
   ]
  },
  {
   "cell_type": "markdown",
   "metadata": {},
   "source": [
    "So what to do first? Lets download some Gaia file."
   ]
  },
  {
   "cell_type": "code",
   "execution_count": null,
   "metadata": {
    "collapsed": false
   },
   "outputs": [],
   "source": [
    "#This cell will download some gaia data file to your pwd\n",
    "import urllib2\n",
    "import gzip\n",
    "some_zipped_gaia_file = urllib2.urlopen('http://cdn.gea.esac.esa.int/Gaia/gaia_source/csv/GaiaSource_000-010-207.csv.gz')\n",
    "some_gaia_file_saved = open('GaiaSource_000-010-207.csv.gz','wb')\n",
    "some_gaia_file_saved.write(some_zipped_gaia_file.read())\n",
    "some_zipped_gaia_file.close()\n",
    "some_gaia_file_saved.close()\n",
    "some_gaia_zipfile = gzip.GzipFile('GaiaSource_000-010-207.csv.gz', 'r') "
   ]
  },
  {
   "cell_type": "code",
   "execution_count": null,
   "metadata": {
    "collapsed": true
   },
   "outputs": [],
   "source": [
    "from astropy.io import ascii\n",
    "data = ascii.read(some_gaia_zipfile)"
   ]
  },
  {
   "cell_type": "code",
   "execution_count": null,
   "metadata": {
    "collapsed": false
   },
   "outputs": [],
   "source": [
    "data"
   ]
  },
  {
   "cell_type": "code",
   "execution_count": null,
   "metadata": {
    "collapsed": false
   },
   "outputs": [],
   "source": [
    "data['ra'].mean()"
   ]
  },
  {
   "cell_type": "code",
   "execution_count": null,
   "metadata": {
    "collapsed": false
   },
   "outputs": [],
   "source": [
    "data['dec'].mean()"
   ]
  },
  {
   "cell_type": "code",
   "execution_count": null,
   "metadata": {
    "collapsed": false
   },
   "outputs": [],
   "source": [
    "from numpy import random\n",
    "random_subsample = data[random.choice(len(data), 10000)]"
   ]
  },
  {
   "cell_type": "code",
   "execution_count": null,
   "metadata": {
    "collapsed": false
   },
   "outputs": [],
   "source": [
    "plt.scatter(random_subsample['ra'],random_subsample['dec'], s=0.1, color='black')\n",
    "\n",
    "plt.xlabel('R.A.', fontsize=16)\n",
    "plt.ylabel('Dec', fontsize=16)"
   ]
  }
 ],
 "metadata": {
  "kernelspec": {
   "display_name": "Python 2",
   "language": "python",
   "name": "python2"
  },
  "language_info": {
   "codemirror_mode": {
    "name": "ipython",
    "version": 2
   },
   "file_extension": ".py",
   "mimetype": "text/x-python",
   "name": "python",
   "nbconvert_exporter": "python",
   "pygments_lexer": "ipython2",
   "version": "2.7.11"
  }
 },
 "nbformat": 4,
 "nbformat_minor": 0
}
