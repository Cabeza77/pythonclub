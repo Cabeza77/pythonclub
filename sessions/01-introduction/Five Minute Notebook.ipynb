{
 "cells": [
  {
   "cell_type": "markdown",
   "metadata": {},
   "source": [
    "# A First Brush With Jupyter\n",
    "\n",
    "This notebook will show you some things I find useful to do in these notebooks."
   ]
  },
  {
   "cell_type": "code",
   "execution_count": 1,
   "metadata": {
    "collapsed": false
   },
   "outputs": [
    {
     "name": "stdout",
     "output_type": "stream",
     "text": [
      "Collecting version_information\n",
      "  Downloading version_information-1.0.3.tar.gz\n",
      "Building wheels for collected packages: version-information\n",
      "  Running setup.py bdist_wheel for version-information ... \u001b[?25l-\b \b\\\b \bdone\n",
      "\u001b[?25h  Stored in directory: /Users/joshuapaultan/Library/Caches/pip/wheels/4b/4c/f7/4d99d7820a507d8ae55204fcc00d66cdabf596d4b01228e7bd\n",
      "Successfully built version-information\n",
      "Installing collected packages: version-information\n",
      "Successfully installed version-information-1.0.3\n"
     ]
    }
   ],
   "source": [
    "# you only need to do this once. Shamelessly stolen from Johannsen.\n",
    "!pip install --upgrade version_information"
   ]
  },
  {
   "cell_type": "code",
   "execution_count": 2,
   "metadata": {
    "collapsed": false
   },
   "outputs": [
    {
     "data": {
      "application/json": {
       "Software versions": [
        {
         "module": "Python",
         "version": "2.7.11 64bit [GCC 4.2.1 (Apple Inc. build 5577)]"
        },
        {
         "module": "IPython",
         "version": "4.2.0"
        },
        {
         "module": "OS",
         "version": "Darwin 15.6.0 x86_64 i386 64bit"
        },
        {
         "module": "numpy",
         "version": "1.11.0"
        },
        {
         "module": "scipy",
         "version": "0.17.1"
        },
        {
         "module": "matplotlib",
         "version": "1.5.1"
        },
        {
         "module": "sympy",
         "version": "1.0"
        },
        {
         "module": "version_information",
         "version": "1.0.3"
        }
       ]
      },
      "text/html": [
       "<table><tr><th>Software</th><th>Version</th></tr><tr><td>Python</td><td>2.7.11 64bit [GCC 4.2.1 (Apple Inc. build 5577)]</td></tr><tr><td>IPython</td><td>4.2.0</td></tr><tr><td>OS</td><td>Darwin 15.6.0 x86_64 i386 64bit</td></tr><tr><td>numpy</td><td>1.11.0</td></tr><tr><td>scipy</td><td>0.17.1</td></tr><tr><td>matplotlib</td><td>1.5.1</td></tr><tr><td>sympy</td><td>1.0</td></tr><tr><td>version_information</td><td>1.0.3</td></tr><tr><td colspan='2'>Wed Sep 14 16:01:02 2016 CLST</td></tr></table>"
      ],
      "text/latex": [
       "\\begin{tabular}{|l|l|}\\hline\n",
       "{\\bf Software} & {\\bf Version} \\\\ \\hline\\hline\n",
       "Python & 2.7.11 64bit [GCC 4.2.1 (Apple Inc. build 5577)] \\\\ \\hline\n",
       "IPython & 4.2.0 \\\\ \\hline\n",
       "OS & Darwin 15.6.0 x86\\_64 i386 64bit \\\\ \\hline\n",
       "numpy & 1.11.0 \\\\ \\hline\n",
       "scipy & 0.17.1 \\\\ \\hline\n",
       "matplotlib & 1.5.1 \\\\ \\hline\n",
       "sympy & 1.0 \\\\ \\hline\n",
       "version_information & 1.0.3 \\\\ \\hline\n",
       "\\hline \\multicolumn{2}{|l|}{Wed Sep 14 16:01:02 2016 CLST} \\\\ \\hline\n",
       "\\end{tabular}\n"
      ],
      "text/plain": [
       "Software versions\n",
       "Python 2.7.11 64bit [GCC 4.2.1 (Apple Inc. build 5577)]\n",
       "IPython 4.2.0\n",
       "OS Darwin 15.6.0 x86_64 i386 64bit\n",
       "numpy 1.11.0\n",
       "scipy 0.17.1\n",
       "matplotlib 1.5.1\n",
       "sympy 1.0\n",
       "version_information 1.0.3\n",
       "Wed Sep 14 16:01:02 2016 CLST"
      ]
     },
     "execution_count": 2,
     "metadata": {},
     "output_type": "execute_result"
    }
   ],
   "source": [
    "#Preamble. These are some standard things I like to include in IPython Notebooks.\n",
    "import astropy\n",
    "from astropy.table import Table, Column, MaskedColumn\n",
    "import numpy as np\n",
    "import matplotlib.pyplot as plt\n",
    "%load_ext version_information\n",
    "\n",
    "%version_information numpy, scipy, matplotlib, sympy, version_information"
   ]
  },
  {
   "cell_type": "markdown",
   "metadata": {},
   "source": [
    "You will more than likely want to plot some things. In the notebook environment, this can be done in different ways. I typically choose an inline plot. However, you can also have images from matplotlib run as separate windows or as interactive objects within the notebook."
   ]
  },
  {
   "cell_type": "code",
   "execution_count": 3,
   "metadata": {
    "collapsed": false
   },
   "outputs": [],
   "source": [
    "# special IPython command to prepare the notebook for matplotlib\n",
    "#interactive plotting in separate window\n",
    "#%matplotlib qt \n",
    "#interactive charts inside notebooks, matplotlib 1.4+\n",
    "#%matplotlib notebook  \n",
    "#normal charts inside notebooks\n",
    "%matplotlib inline"
   ]
  },
  {
   "cell_type": "markdown",
   "metadata": {},
   "source": [
    "So what to do first? Lets download some Gaia file."
   ]
  },
  {
   "cell_type": "code",
   "execution_count": 4,
   "metadata": {
    "collapsed": false
   },
   "outputs": [],
   "source": [
    "#This cell will download some gaia data file to your pwd\n",
    "import urllib2\n",
    "import gzip\n",
    "some_zipped_gaia_file = urllib2.urlopen('http://cdn.gea.esac.esa.int/Gaia/gaia_source/csv/GaiaSource_000-010-207.csv.gz')\n",
    "some_gaia_file_saved = open('GaiaSource_000-010-207.csv.gz','wb')\n",
    "some_gaia_file_saved.write(some_zipped_gaia_file.read())\n",
    "some_zipped_gaia_file.close()\n",
    "some_gaia_file_saved.close()\n",
    "some_gaia_zipfile = gzip.GzipFile('GaiaSource_000-010-207.csv.gz', 'r') "
   ]
  },
  {
   "cell_type": "code",
   "execution_count": 5,
   "metadata": {
    "collapsed": true
   },
   "outputs": [],
   "source": [
    "from astropy.io import ascii\n",
    "data = ascii.read(some_gaia_zipfile)"
   ]
  },
  {
   "cell_type": "code",
   "execution_count": 6,
   "metadata": {
    "collapsed": false
   },
   "outputs": [
    {
     "data": {
      "text/html": [
       "&lt;Table masked=True length=218453&gt;\n",
       "<table id=\"table4542134928\" class=\"table-striped table-bordered table-condensed\">\n",
       "<thead><tr><th>solution_id</th><th>source_id</th><th>random_index</th><th>ref_epoch</th><th>ra</th><th>ra_error</th><th>dec</th><th>dec_error</th><th>parallax</th><th>parallax_error</th><th>pmra</th><th>pmra_error</th><th>pmdec</th><th>pmdec_error</th><th>ra_dec_corr</th><th>ra_parallax_corr</th><th>ra_pmra_corr</th><th>ra_pmdec_corr</th><th>dec_parallax_corr</th><th>dec_pmra_corr</th><th>dec_pmdec_corr</th><th>parallax_pmra_corr</th><th>parallax_pmdec_corr</th><th>pmra_pmdec_corr</th><th>astrometric_n_obs_al</th><th>astrometric_n_obs_ac</th><th>astrometric_n_good_obs_al</th><th>astrometric_n_good_obs_ac</th><th>astrometric_n_bad_obs_al</th><th>astrometric_n_bad_obs_ac</th><th>astrometric_delta_q</th><th>astrometric_excess_noise</th><th>astrometric_excess_noise_sig</th><th>astrometric_primary_flag</th><th>astrometric_relegation_factor</th><th>astrometric_weight_al</th><th>astrometric_weight_ac</th><th>astrometric_priors_used</th><th>matched_observations</th><th>duplicated_source</th><th>scan_direction_strength_k1</th><th>scan_direction_strength_k2</th><th>scan_direction_strength_k3</th><th>scan_direction_strength_k4</th><th>scan_direction_mean_k1</th><th>scan_direction_mean_k2</th><th>scan_direction_mean_k3</th><th>scan_direction_mean_k4</th><th>phot_g_n_obs</th><th>phot_g_mean_flux</th><th>phot_g_mean_flux_error</th><th>phot_g_mean_mag</th><th>phot_variable_flag</th><th>l</th><th>b</th><th>ecl_lon</th><th>ecl_lat</th></tr></thead>\n",
       "<thead><tr><th>int64</th><th>int64</th><th>int64</th><th>float64</th><th>float64</th><th>float64</th><th>float64</th><th>float64</th><th>float64</th><th>float64</th><th>float64</th><th>float64</th><th>float64</th><th>float64</th><th>float64</th><th>float64</th><th>float64</th><th>float64</th><th>float64</th><th>float64</th><th>float64</th><th>float64</th><th>float64</th><th>float64</th><th>int64</th><th>int64</th><th>int64</th><th>int64</th><th>int64</th><th>int64</th><th>float64</th><th>float64</th><th>float64</th><th>str5</th><th>float64</th><th>float64</th><th>float64</th><th>int64</th><th>int64</th><th>str5</th><th>float64</th><th>float64</th><th>float64</th><th>float64</th><th>float64</th><th>float64</th><th>float64</th><th>float64</th><th>int64</th><th>float64</th><th>float64</th><th>float64</th><th>str13</th><th>float64</th><th>float64</th><th>float64</th><th>float64</th></tr></thead>\n",
       "<tr><td>1635378410781933568</td><td>4507654042146237440</td><td>371857909</td><td>2015.0</td><td>284.018456429</td><td>0.323431962684</td><td>15.3644094695</td><td>0.352478685499</td><td>--</td><td>--</td><td>--</td><td>--</td><td>--</td><td>--</td><td>0.6411</td><td>--</td><td>--</td><td>--</td><td>--</td><td>--</td><td>--</td><td>--</td><td>--</td><td>--</td><td>88</td><td>0</td><td>87</td><td>0</td><td>1</td><td>0</td><td>--</td><td>0.655170280084</td><td>2.31521922399</td><td>false</td><td>1.2003734</td><td>0.6197851</td><td>--</td><td>2</td><td>10</td><td>false</td><td>0.3238748</td><td>0.349842</td><td>0.33311188</td><td>0.5430713</td><td>-104.0412</td><td>-60.889313</td><td>-24.123913</td><td>42.22047</td><td>87</td><td>1267.20663277</td><td>11.3927746617</td><td>17.7676514703</td><td>NOT_AVAILABLE</td><td>47.1741773591</td><td>5.93834065265</td><td>287.234747906</td><td>37.968684138</td></tr>\n",
       "<tr><td>1635378410781933568</td><td>4507654042146237568</td><td>947727977</td><td>2015.0</td><td>284.021300901</td><td>0.374137191414</td><td>15.3550956006</td><td>0.383357641937</td><td>--</td><td>--</td><td>--</td><td>--</td><td>--</td><td>--</td><td>0.70395</td><td>--</td><td>--</td><td>--</td><td>--</td><td>--</td><td>--</td><td>--</td><td>--</td><td>--</td><td>107</td><td>0</td><td>107</td><td>0</td><td>0</td><td>0</td><td>--</td><td>0.943513687137</td><td>4.31267493943</td><td>false</td><td>2.1932993</td><td>0.40037948</td><td>--</td><td>2</td><td>12</td><td>false</td><td>0.24294688</td><td>0.41565245</td><td>0.292616</td><td>0.535654</td><td>-106.101234</td><td>-51.403423</td><td>-22.373487</td><td>-44.30477</td><td>106</td><td>979.517264439</td><td>2.4029934729</td><td>18.0472398262</td><td>NOT_AVAILABLE</td><td>47.1670325631</td><td>5.93172482449</td><td>287.236756893</td><td>37.9591048471</td></tr>\n",
       "<tr><td>1635378410781933568</td><td>4507654046450913664</td><td>487763385</td><td>2015.0</td><td>284.019832518</td><td>0.8146581837</td><td>15.3473285836</td><td>0.755669146696</td><td>--</td><td>--</td><td>--</td><td>--</td><td>--</td><td>--</td><td>0.8254</td><td>--</td><td>--</td><td>--</td><td>--</td><td>--</td><td>--</td><td>--</td><td>--</td><td>--</td><td>96</td><td>0</td><td>96</td><td>0</td><td>0</td><td>0</td><td>--</td><td>0.0</td><td>0.0</td><td>false</td><td>1.0</td><td>0.14105824</td><td>--</td><td>2</td><td>12</td><td>false</td><td>0.25586718</td><td>0.37777567</td><td>0.2556657</td><td>0.53755957</td><td>-130.51743</td><td>-55.6821</td><td>-18.022856</td><td>44.13647</td><td>93</td><td>282.51543544</td><td>2.22623889658</td><td>19.3971646118</td><td>NOT_AVAILABLE</td><td>47.1594106662</td><td>5.92952063043</td><td>287.233770599</td><td>37.9515691227</td></tr>\n",
       "<tr><td>1635378410781933568</td><td>4507654046450914176</td><td>967412378</td><td>2015.0</td><td>284.021744774</td><td>2.19823670981</td><td>15.3488828286</td><td>1.91262081119</td><td>--</td><td>--</td><td>--</td><td>--</td><td>--</td><td>--</td><td>0.80555</td><td>--</td><td>--</td><td>--</td><td>--</td><td>--</td><td>--</td><td>--</td><td>--</td><td>--</td><td>88</td><td>0</td><td>88</td><td>0</td><td>0</td><td>0</td><td>--</td><td>3.80835862191</td><td>3.31092998552</td><td>false</td><td>14.69474</td><td>0.022539811</td><td>--</td><td>2</td><td>11</td><td>false</td><td>0.26579067</td><td>0.3242545</td><td>0.32188582</td><td>0.5515567</td><td>-144.66031</td><td>-54.042034</td><td>-14.503501</td><td>-43.809856</td><td>87</td><td>148.927629411</td><td>1.73226115174</td><td>20.0923318724</td><td>NOT_AVAILABLE</td><td>47.1616370725</td><td>5.92856552565</td><td>287.236332585</td><td>37.9528863409</td></tr>\n",
       "<tr><td>1635378410781933568</td><td>4507654046450914304</td><td>856570868</td><td>2015.0</td><td>284.018832685</td><td>0.835574445433</td><td>15.3467376267</td><td>0.741885055357</td><td>--</td><td>--</td><td>--</td><td>--</td><td>--</td><td>--</td><td>0.8027</td><td>--</td><td>--</td><td>--</td><td>--</td><td>--</td><td>--</td><td>--</td><td>--</td><td>--</td><td>88</td><td>0</td><td>88</td><td>0</td><td>0</td><td>0</td><td>--</td><td>0.593026883906</td><td>0.321201843973</td><td>false</td><td>2.4923322</td><td>0.15122868</td><td>--</td><td>2</td><td>11</td><td>false</td><td>0.26276904</td><td>0.32268173</td><td>0.34107515</td><td>0.54305035</td><td>-149.5235</td><td>-54.402363</td><td>-13.907869</td><td>-43.834236</td><td>87</td><td>338.134240959</td><td>2.09806831701</td><td>19.2020471849</td><td>NOT_AVAILABLE</td><td>47.1584459632</td><td>5.93011909003</td><td>287.232465429</td><td>37.9511004207</td></tr>\n",
       "<tr><td>1635378410781933568</td><td>4507654046450933504</td><td>754086420</td><td>2015.0</td><td>284.022640845</td><td>6.30855781258</td><td>15.3530941593</td><td>4.25506455776</td><td>--</td><td>--</td><td>--</td><td>--</td><td>--</td><td>--</td><td>0.9511</td><td>--</td><td>--</td><td>--</td><td>--</td><td>--</td><td>--</td><td>--</td><td>--</td><td>--</td><td>44</td><td>0</td><td>44</td><td>0</td><td>0</td><td>0</td><td>--</td><td>1.76378788841</td><td>1.31085372753</td><td>false</td><td>6.86313</td><td>0.024552291</td><td>--</td><td>2</td><td>5</td><td>false</td><td>0.4022107</td><td>0.49797794</td><td>0.40135667</td><td>0.6408555</td><td>159.65735</td><td>-47.171272</td><td>4.323387</td><td>-37.495277</td><td>43</td><td>72.6824290454</td><td>1.1664698864</td><td>20.8711964814</td><td>NOT_AVAILABLE</td><td>47.165812984</td><td>5.92967449643</td><td>287.238073102</td><td>37.9569604701</td></tr>\n",
       "<tr><td>1635378410781933568</td><td>4507654046450939264</td><td>1065215126</td><td>2015.0</td><td>284.021625845</td><td>2.64821115355</td><td>15.3534022245</td><td>1.94454049365</td><td>--</td><td>--</td><td>--</td><td>--</td><td>--</td><td>--</td><td>0.8814</td><td>--</td><td>--</td><td>--</td><td>--</td><td>--</td><td>--</td><td>--</td><td>--</td><td>--</td><td>79</td><td>0</td><td>79</td><td>0</td><td>0</td><td>0</td><td>--</td><td>1.75126903961</td><td>0.806243224352</td><td>false</td><td>6.8154554</td><td>0.03746972</td><td>--</td><td>2</td><td>10</td><td>false</td><td>0.29661372</td><td>0.27366936</td><td>0.45304164</td><td>0.56557447</td><td>-169.59645</td><td>-52.335514</td><td>-10.772607</td><td>-41.219505</td><td>78</td><td>144.356144597</td><td>1.81795035479</td><td>20.1261818774</td><td>NOT_AVAILABLE</td><td>47.1656503071</td><td>5.93068777186</td><td>287.236888809</td><td>37.9573858676</td></tr>\n",
       "<tr><td>1635378410781933568</td><td>4507654046450946432</td><td>243912019</td><td>2015.0</td><td>284.021426789</td><td>0.827210583246</td><td>15.3544485904</td><td>0.735046448107</td><td>--</td><td>--</td><td>--</td><td>--</td><td>--</td><td>--</td><td>0.808</td><td>--</td><td>--</td><td>--</td><td>--</td><td>--</td><td>--</td><td>--</td><td>--</td><td>--</td><td>97</td><td>0</td><td>96</td><td>0</td><td>1</td><td>0</td><td>--</td><td>0.0</td><td>1.05337863468e-15</td><td>false</td><td>1.0</td><td>0.1358803</td><td>--</td><td>2</td><td>12</td><td>false</td><td>0.25586733</td><td>0.37777564</td><td>0.25566518</td><td>0.53755903</td><td>-130.517</td><td>-55.68169</td><td>-18.022432</td><td>44.13689</td><td>95</td><td>273.64887108</td><td>2.03099641352</td><td>19.4317859118</td><td>NOT_AVAILABLE</td><td>47.1665051763</td><td>5.93132709075</td><td>287.236809399</td><td>37.9584478501</td></tr>\n",
       "<tr><td>1635378410781933568</td><td>4507654046450946688</td><td>541318863</td><td>2015.0</td><td>284.017788465</td><td>3.22918716598</td><td>15.3518266833</td><td>2.96872495696</td><td>--</td><td>--</td><td>--</td><td>--</td><td>--</td><td>--</td><td>0.8511</td><td>--</td><td>--</td><td>--</td><td>--</td><td>--</td><td>--</td><td>--</td><td>--</td><td>--</td><td>53</td><td>0</td><td>53</td><td>0</td><td>0</td><td>0</td><td>--</td><td>0.0</td><td>0.0</td><td>false</td><td>1.0</td><td>0.017818443</td><td>--</td><td>2</td><td>6</td><td>false</td><td>0.29774296</td><td>0.30249205</td><td>0.2899435</td><td>0.54870325</td><td>-132.39615</td><td>-56.010464</td><td>-20.782715</td><td>42.230766</td><td>52</td><td>89.5848333526</td><td>2.14302258511</td><td>20.6441838385</td><td>NOT_AVAILABLE</td><td>47.1625707057</td><td>5.9332941003</td><td>287.231986612</td><td>37.9562743888</td></tr>\n",
       "<tr><td>1635378410781933568</td><td>4507654046450947584</td><td>562676191</td><td>2015.0</td><td>284.02459805</td><td>0.669087596996</td><td>15.3569707251</td><td>0.669975870005</td><td>--</td><td>--</td><td>--</td><td>--</td><td>--</td><td>--</td><td>0.7614</td><td>--</td><td>--</td><td>--</td><td>--</td><td>--</td><td>--</td><td>--</td><td>--</td><td>--</td><td>98</td><td>0</td><td>98</td><td>0</td><td>0</td><td>0</td><td>--</td><td>1.18880704325</td><td>2.02345060355</td><td>false</td><td>4.6844187</td><td>0.15295707</td><td>--</td><td>2</td><td>11</td><td>false</td><td>0.25824425</td><td>0.39023104</td><td>0.23883764</td><td>0.5378416</td><td>-126.249626</td><td>-55.917603</td><td>-19.33251</td><td>43.679466</td><td>97</td><td>415.124639056</td><td>2.28684645109</td><td>18.9793237864</td><td>NOT_AVAILABLE</td><td>47.1701475425</td><td>5.92971848219</td><td>287.241049943</td><td>37.9605772267</td></tr>\n",
       "<tr><td>...</td><td>...</td><td>...</td><td>...</td><td>...</td><td>...</td><td>...</td><td>...</td><td>...</td><td>...</td><td>...</td><td>...</td><td>...</td><td>...</td><td>...</td><td>...</td><td>...</td><td>...</td><td>...</td><td>...</td><td>...</td><td>...</td><td>...</td><td>...</td><td>...</td><td>...</td><td>...</td><td>...</td><td>...</td><td>...</td><td>...</td><td>...</td><td>...</td><td>...</td><td>...</td><td>...</td><td>...</td><td>...</td><td>...</td><td>...</td><td>...</td><td>...</td><td>...</td><td>...</td><td>...</td><td>...</td><td>...</td><td>...</td><td>...</td><td>...</td><td>...</td><td>...</td><td>...</td><td>...</td><td>...</td><td>...</td><td>...</td></tr>\n",
       "<tr><td>1635378410781933568</td><td>4507930092587848576</td><td>1120952268</td><td>2015.0</td><td>283.500485575</td><td>6.92269551914</td><td>15.8574661312</td><td>12.0954384159</td><td>--</td><td>--</td><td>--</td><td>--</td><td>--</td><td>--</td><td>-0.24405</td><td>--</td><td>--</td><td>--</td><td>--</td><td>--</td><td>--</td><td>--</td><td>--</td><td>--</td><td>52</td><td>0</td><td>52</td><td>0</td><td>0</td><td>0</td><td>--</td><td>0.938700708216</td><td>0.133455294105</td><td>false</td><td>3.7494395</td><td>0.030022962</td><td>--</td><td>2</td><td>8</td><td>false</td><td>0.55929464</td><td>0.5191962</td><td>0.81108737</td><td>0.24162114</td><td>147.31532</td><td>-80.74882</td><td>-4.220448</td><td>35.65646</td><td>52</td><td>120.108060964</td><td>2.3852939047</td><td>20.3258396745</td><td>NOT_AVAILABLE</td><td>47.3946146825</td><td>6.60464051137</td><td>286.679811571</td><td>38.5182438159</td></tr>\n",
       "<tr><td>1635378410781933568</td><td>4507930092589050112</td><td>416915102</td><td>2015.0</td><td>283.507480994</td><td>8.88968959292</td><td>15.8523908731</td><td>10.841619359</td><td>--</td><td>--</td><td>--</td><td>--</td><td>--</td><td>--</td><td>-0.31455</td><td>--</td><td>--</td><td>--</td><td>--</td><td>--</td><td>--</td><td>--</td><td>--</td><td>--</td><td>50</td><td>0</td><td>50</td><td>0</td><td>0</td><td>0</td><td>--</td><td>0.0</td><td>0.0</td><td>false</td><td>1.0</td><td>0.0140516935</td><td>--</td><td>2</td><td>7</td><td>false</td><td>0.6311229</td><td>0.41064093</td><td>0.7472117</td><td>0.46490502</td><td>144.24426</td><td>-77.872765</td><td>-9.139562</td><td>28.206707</td><td>50</td><td>87.3771667558</td><td>1.92472737391</td><td>20.6712751678</td><td>NOT_AVAILABLE</td><td>47.3930474589</td><td>6.59635692292</td><td>286.687581099</td><td>38.5124055913</td></tr>\n",
       "<tr><td>1635378410781933568</td><td>4507930122641272320</td><td>39425284</td><td>2015.0</td><td>283.479540767</td><td>1.55984396954</td><td>15.8405089813</td><td>1.67117332859</td><td>--</td><td>--</td><td>--</td><td>--</td><td>--</td><td>--</td><td>0.6811</td><td>--</td><td>--</td><td>--</td><td>--</td><td>--</td><td>--</td><td>--</td><td>--</td><td>--</td><td>71</td><td>0</td><td>70</td><td>0</td><td>1</td><td>0</td><td>--</td><td>4.48004868952</td><td>38.2124046476</td><td>false</td><td>4.7848353</td><td>0.04258895</td><td>--</td><td>2</td><td>8</td><td>false</td><td>0.14200649</td><td>0.6070937</td><td>0.42354783</td><td>0.41521555</td><td>-43.795586</td><td>-51.091255</td><td>-21.27455</td><td>-42.16663</td><td>70</td><td>746.725538578</td><td>6.01107771134</td><td>18.3418675519</td><td>NOT_AVAILABLE</td><td>47.3703098343</td><td>6.61515773594</td><td>286.651674042</td><td>38.5037956515</td></tr>\n",
       "<tr><td>1635378410781933568</td><td>4507930122641292800</td><td>541196952</td><td>2015.0</td><td>283.481501911</td><td>0.429757004812</td><td>15.8424888534</td><td>0.390735029013</td><td>--</td><td>--</td><td>--</td><td>--</td><td>--</td><td>--</td><td>0.70395</td><td>--</td><td>--</td><td>--</td><td>--</td><td>--</td><td>--</td><td>--</td><td>--</td><td>--</td><td>104</td><td>0</td><td>104</td><td>0</td><td>0</td><td>0</td><td>--</td><td>0.499136733179</td><td>0.804782579033</td><td>false</td><td>1.0663058</td><td>0.43596637</td><td>--</td><td>2</td><td>12</td><td>false</td><td>0.19853935</td><td>0.42460367</td><td>0.4209246</td><td>0.53697795</td><td>-92.48376</td><td>-47.20726</td><td>-21.054987</td><td>-40.773857</td><td>102</td><td>836.210038559</td><td>2.02035206692</td><td>18.2189816216</td><td>NOT_AVAILABLE</td><td>47.3729392662</td><td>6.61434704772</td><td>286.654367736</td><td>38.5055380184</td></tr>\n",
       "<tr><td>1635378410781933568</td><td>4507930122641292928</td><td>883723114</td><td>2015.0</td><td>283.482997728</td><td>0.64736377897</td><td>15.8427533551</td><td>0.578085054206</td><td>--</td><td>--</td><td>--</td><td>--</td><td>--</td><td>--</td><td>0.7379</td><td>--</td><td>--</td><td>--</td><td>--</td><td>--</td><td>--</td><td>--</td><td>--</td><td>--</td><td>95</td><td>0</td><td>94</td><td>0</td><td>1</td><td>0</td><td>--</td><td>0.517981131073</td><td>0.423164318503</td><td>false</td><td>1.0492492</td><td>0.21056758</td><td>--</td><td>2</td><td>12</td><td>false</td><td>0.19057046</td><td>0.40427703</td><td>0.35803843</td><td>0.5332808</td><td>-117.604805</td><td>-50.26653</td><td>-18.30239</td><td>-41.80814</td><td>94</td><td>460.033410666</td><td>2.16488798146</td><td>18.8677966284</td><td>NOT_AVAILABLE</td><td>47.3738213937</td><td>6.61317535975</td><td>286.656233699</td><td>38.5056301209</td></tr>\n",
       "<tr><td>1635378410781933568</td><td>4507930122641299456</td><td>949067078</td><td>2015.0</td><td>283.478998392</td><td>0.5567782765</td><td>15.843216529</td><td>0.494710402324</td><td>--</td><td>--</td><td>--</td><td>--</td><td>--</td><td>--</td><td>0.73235</td><td>--</td><td>--</td><td>--</td><td>--</td><td>--</td><td>--</td><td>--</td><td>--</td><td>--</td><td>102</td><td>0</td><td>101</td><td>0</td><td>1</td><td>0</td><td>--</td><td>0.0</td><td>-1.0255800994e-15</td><td>false</td><td>1.0</td><td>0.28595832</td><td>--</td><td>2</td><td>12</td><td>false</td><td>0.18997926</td><td>0.41036445</td><td>0.4124853</td><td>0.5261333</td><td>-100.017296</td><td>-48.035713</td><td>-20.132118</td><td>-41.064266</td><td>100</td><td>545.618081676</td><td>3.73045951428</td><td>18.682548178</td><td>NOT_AVAILABLE</td><td>47.3725184409</td><td>6.61682802692</td><td>286.651421918</td><td>38.506545949</td></tr>\n",
       "<tr><td>1635378410781933568</td><td>4507930122641319680</td><td>177612956</td><td>2015.0</td><td>283.481665727</td><td>0.943576988028</td><td>15.8458904685</td><td>0.88536157682</td><td>--</td><td>--</td><td>--</td><td>--</td><td>--</td><td>--</td><td>0.6954</td><td>--</td><td>--</td><td>--</td><td>--</td><td>--</td><td>--</td><td>--</td><td>--</td><td>--</td><td>96</td><td>0</td><td>96</td><td>0</td><td>0</td><td>0</td><td>--</td><td>1.34845003068</td><td>1.66708138357</td><td>false</td><td>1.5253298</td><td>0.1010142</td><td>--</td><td>2</td><td>13</td><td>false</td><td>0.23303851</td><td>0.33522922</td><td>0.5015195</td><td>0.43440664</td><td>-142.44589</td><td>-70.79233</td><td>-14.855596</td><td>42.889442</td><td>95</td><td>330.391704567</td><td>2.21052099017</td><td>19.2271972274</td><td>NOT_AVAILABLE</td><td>47.3760776782</td><td>6.61571704789</td><td>286.655082847</td><td>38.5088969875</td></tr>\n",
       "<tr><td>1635378410781933568</td><td>4507930122641328000</td><td>779983133</td><td>2015.0</td><td>283.478167693</td><td>0.515249922085</td><td>15.8465054298</td><td>0.480103546782</td><td>--</td><td>--</td><td>--</td><td>--</td><td>--</td><td>--</td><td>0.6038</td><td>--</td><td>--</td><td>--</td><td>--</td><td>--</td><td>--</td><td>--</td><td>--</td><td>--</td><td>117</td><td>0</td><td>117</td><td>0</td><td>0</td><td>0</td><td>--</td><td>0.0</td><td>0.0</td><td>false</td><td>1.0</td><td>0.23775215</td><td>--</td><td>2</td><td>14</td><td>false</td><td>0.17934875</td><td>0.33927038</td><td>0.46759605</td><td>0.45869747</td><td>-132.42831</td><td>-56.545246</td><td>-14.959238</td><td>-41.68142</td><td>117</td><td>501.835303989</td><td>2.05433805059</td><td>18.7733670374</td><td>NOT_AVAILABLE</td><td>47.3751273581</td><td>6.61900505303</td><td>286.650905852</td><td>38.5099063669</td></tr>\n",
       "<tr><td>1635378410781933568</td><td>4507930122641332992</td><td>982677436</td><td>2015.0</td><td>283.473095194</td><td>0.448571056144</td><td>15.8470203029</td><td>0.42847179069</td><td>--</td><td>--</td><td>--</td><td>--</td><td>--</td><td>--</td><td>0.5396</td><td>--</td><td>--</td><td>--</td><td>--</td><td>--</td><td>--</td><td>--</td><td>--</td><td>--</td><td>103</td><td>0</td><td>103</td><td>0</td><td>0</td><td>0</td><td>--</td><td>0.0</td><td>0.0</td><td>false</td><td>1.0</td><td>0.30521557</td><td>--</td><td>2</td><td>12</td><td>false</td><td>0.13422689</td><td>0.41880944</td><td>0.46200863</td><td>0.44826943</td><td>-124.52854</td><td>-58.49793</td><td>-12.680218</td><td>-39.789837</td><td>103</td><td>597.427937437</td><td>2.34017251701</td><td>18.5840562449</td><td>NOT_AVAILABLE</td><td>47.3734094589</td><td>6.62360557759</td><td>286.644791601</td><td>38.5109956693</td></tr>\n",
       "<tr><td>1635378410781933568</td><td>4507930122641345152</td><td>967192460</td><td>2015.0</td><td>283.486738182</td><td>0.466567326345</td><td>15.8477468934</td><td>0.415764602656</td><td>--</td><td>--</td><td>--</td><td>--</td><td>--</td><td>--</td><td>0.7388</td><td>--</td><td>--</td><td>--</td><td>--</td><td>--</td><td>--</td><td>--</td><td>--</td><td>--</td><td>104</td><td>0</td><td>102</td><td>0</td><td>2</td><td>0</td><td>--</td><td>0.407165178436</td><td>0.473050907855</td><td>false</td><td>1.0559493</td><td>0.385309</td><td>--</td><td>2</td><td>12</td><td>false</td><td>0.136804</td><td>0.41547072</td><td>0.4341029</td><td>0.4518974</td><td>-147.00894</td><td>-54.326973</td><td>-17.083355</td><td>-44.437717</td><td>102</td><td>723.295781429</td><td>4.61705744268</td><td>18.3764802336</td><td>NOT_AVAILABLE</td><td>47.3799343602</td><td>6.61217009364</td><td>286.661556066</td><td>38.5101619219</td></tr>\n",
       "</table>"
      ],
      "text/plain": [
       "<Table masked=True length=218453>\n",
       "    solution_id          source_id      ...    ecl_lon       ecl_lat   \n",
       "       int64               int64        ...    float64       float64   \n",
       "------------------- ------------------- ... ------------- -------------\n",
       "1635378410781933568 4507654042146237440 ... 287.234747906  37.968684138\n",
       "1635378410781933568 4507654042146237568 ... 287.236756893 37.9591048471\n",
       "1635378410781933568 4507654046450913664 ... 287.233770599 37.9515691227\n",
       "1635378410781933568 4507654046450914176 ... 287.236332585 37.9528863409\n",
       "1635378410781933568 4507654046450914304 ... 287.232465429 37.9511004207\n",
       "1635378410781933568 4507654046450933504 ... 287.238073102 37.9569604701\n",
       "1635378410781933568 4507654046450939264 ... 287.236888809 37.9573858676\n",
       "1635378410781933568 4507654046450946432 ... 287.236809399 37.9584478501\n",
       "1635378410781933568 4507654046450946688 ... 287.231986612 37.9562743888\n",
       "1635378410781933568 4507654046450947584 ... 287.241049943 37.9605772267\n",
       "                ...                 ... ...           ...           ...\n",
       "1635378410781933568 4507930092587848576 ... 286.679811571 38.5182438159\n",
       "1635378410781933568 4507930092589050112 ... 286.687581099 38.5124055913\n",
       "1635378410781933568 4507930122641272320 ... 286.651674042 38.5037956515\n",
       "1635378410781933568 4507930122641292800 ... 286.654367736 38.5055380184\n",
       "1635378410781933568 4507930122641292928 ... 286.656233699 38.5056301209\n",
       "1635378410781933568 4507930122641299456 ... 286.651421918  38.506545949\n",
       "1635378410781933568 4507930122641319680 ... 286.655082847 38.5088969875\n",
       "1635378410781933568 4507930122641328000 ... 286.650905852 38.5099063669\n",
       "1635378410781933568 4507930122641332992 ... 286.644791601 38.5109956693\n",
       "1635378410781933568 4507930122641345152 ... 286.661556066 38.5101619219"
      ]
     },
     "execution_count": 6,
     "metadata": {},
     "output_type": "execute_result"
    }
   ],
   "source": [
    "data"
   ]
  },
  {
   "cell_type": "code",
   "execution_count": 7,
   "metadata": {
    "collapsed": false
   },
   "outputs": [
    {
     "data": {
      "text/plain": [
       "284.1834678025001"
      ]
     },
     "execution_count": 7,
     "metadata": {},
     "output_type": "execute_result"
    }
   ],
   "source": [
    "data['ra'].mean()"
   ]
  },
  {
   "cell_type": "code",
   "execution_count": 8,
   "metadata": {
    "collapsed": false
   },
   "outputs": [
    {
     "data": {
      "text/plain": [
       "15.657042760840445"
      ]
     },
     "execution_count": 8,
     "metadata": {},
     "output_type": "execute_result"
    }
   ],
   "source": [
    "data['dec'].mean()"
   ]
  },
  {
   "cell_type": "code",
   "execution_count": 9,
   "metadata": {
    "collapsed": false
   },
   "outputs": [],
   "source": [
    "from numpy import random\n",
    "random_subsample = data[random.choice(len(data), 10000)]"
   ]
  },
  {
   "cell_type": "code",
   "execution_count": 10,
   "metadata": {
    "collapsed": false
   },
   "outputs": [
    {
     "data": {
      "text/plain": [
       "<matplotlib.text.Text at 0x10fdbf250>"
      ]
     },
     "execution_count": 10,
     "metadata": {},
     "output_type": "execute_result"
    },
    {
     "data": {
      "image/png": "[encoded data removed]",
      "text/plain": [
       "<matplotlib.figure.Figure at 0x136b760d0>"
      ]
     },
     "metadata": {},
     "output_type": "display_data"
    }
   ],
   "source": [
    "plt.scatter(random_subsample['ra'],random_subsample['dec'], s=0.1, color='black')\n",
    "\n",
    "plt.xlabel('R.A.', fontsize=16)\n",
    "plt.ylabel('Dec', fontsize=16)"
   ]
  }
 ],
 "metadata": {
  "kernelspec": {
   "display_name": "Python 2",
   "language": "python",
   "name": "python2"
  },
  "language_info": {
   "codemirror_mode": {
    "name": "ipython",
    "version": 2
   },
   "file_extension": ".py",
   "mimetype": "text/x-python",
   "name": "python",
   "nbconvert_exporter": "python",
   "pygments_lexer": "ipython2",
   "version": "2.7.11"
  }
 },
 "nbformat": 4,
 "nbformat_minor": 0
}
