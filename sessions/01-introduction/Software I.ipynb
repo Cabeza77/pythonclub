{
 "cells": [
  {
   "cell_type": "markdown",
   "metadata": {},
   "source": [
    "# Software I : Anaconda, AstroPy, and libraries"
   ]
  },
  {
   "cell_type": "markdown",
   "metadata": {},
   "source": [
    "We will make extensive use of Python and various associated libraries and so the first thing we need to ensure is that we all have a common setup and are using the same software. The Python distribution that we have decided to use is <i>Anaconda</i> which can be downloaded from <a href=\"http://continuum.io/downloads\">here</a> (although we hope that you have already done this prior to the school). Make sure that you installed the Python 2.7 version for your operating system (there is nothing wrong with Python 3.x but it is slightly different syntactically). Python 2 will be supported until 2020. We promote to write code that supports Python 2.7 and 3.x simultaneously, and you can use the future package explained <a href=\"http://python-future.org\">here</a>\n",
    "\n",
    "For installing Anaconda in **Linux** follow this <a href=\"https://www.continuum.io/downloads#linux\">link</a>\n",
    "\n",
    "For installing Anaconda in **Mac** follow this <a href=\"https://www.continuum.io/downloads#osx\">link</a>\n",
    "\n",
    "For installing Anaconda in **Windows** follow this <a href=\"https://www.continuum.io/downloads#windows\">link</a>\n",
    "\n",
    "We will follow the LSST Data Managment Style guide explained <a href=\"https://developer.lsst.io/coding/python_style_guide.html#pep-8-is-the-baseline-coding-style\">here</a>"
   ]
  },
  {
   "cell_type": "markdown",
   "metadata": {},
   "source": [
    "## Installing packages"
   ]
  },
  {
   "cell_type": "markdown",
   "metadata": {},
   "source": [
    "One of the advantages of the <i>Anaconda</i> distribution is that it comes with many of the most commonly-used Python packages, such as <a href=\"http://www.numpy.org\">numpy</a>, <a href=\"http://www.scipy.org\">scipy</a>, and <a href=\"http://scikit-learn.org\">scikit-learn</a>, preinstalled. However, if you do need to install a new package then it is very straightforward: you can either use the Anaconda installation tool <i>conda</i> or the generic Python tool <i>pip</i> (both use a different registry of available packages and sometimes a particular package will not available via one tool but will be via the other)."
   ]
  },
  {
   "cell_type": "markdown",
   "metadata": {},
   "source": [
    "For example, <a href=\"https://github.com/bwlewis/irlbpy\">irlbpy</a> is a superfast algorithm for finding the largest eigenvalues (and corresponding eigenvectors) of very large matrices. We can try to install it first with <i>conda</i>:\n",
    "\n",
    "<code>conda install irlbpy</code>\n",
    "\n",
    "but this will not find it:\n",
    "\n",
    "<code>Fetching package metadata: ....\n",
    "Error: No packages found in current osx-64 channels matching: irlbpy\n",
    "\n",
    "You can search for this package on Binstar with <br/>\n",
    "    binstar search -t conda irlbpy\n",
    "</code>\n",
    "\n",
    "so instead we try with <i>pip</i>:\n",
    "\n",
    "**<code>pip install irlbpy</code>**\n",
    "\n",
    "In the event that both fail, you always just download the package source code and then install it manually with:\n",
    "\n",
    "<code>python install setup.py</code>\n",
    "\n",
    "in the appropriate source directory.\n",
    "\n",
    "We'll now take a brief look at a few of the main Python packages. "
   ]
  },
  {
   "cell_type": "markdown",
   "metadata": {},
   "source": [
    "## Python interpreter\n",
    "\n",
    "The standard way to use the Python programming language is to use the Python interpreter to run python code. The python interpreter is a program that reads and execute the python code in files passed to it as arguments. At the command prompt, the command python is used to invoke the Python interpreter.\n",
    "\n",
    "For example, to run a file my-program.py that contains python code from the command prompt, use::\n",
    "\n",
    "$ python my-program.py\n",
    "\n",
    "We can also start the interpreter by simply typing python at the command line, and interactively type python code into the interpreter.\n",
    "\n",
    "<img src=\"images/python-screenshot.jpg\" width=\"600\">\n",
    "\n",
    "This is often how we want to work when developing scientific applications, or when doing small calculations. But the standard python interpreter is not very convenient for this kind of work, due to a number of limitations."
   ]
  },
  {
   "cell_type": "markdown",
   "metadata": {},
   "source": [
    "## IPython\n",
    "\n",
    "IPython is an interactive shell that addresses the limitation of the standard python interpreter, and it is a work-horse for scientific use of python. It provides an interactive prompt to the python interpreter with a greatly improved user-friendliness.\n",
    "\n",
    "<img src=\"images/ipython-screenshot.jpg\" width=\"600\">\n",
    "\n",
    "Some of the many useful features of IPython includes:\n",
    "\n",
    "Command history, which can be browsed with the up and down arrows on the keyboard.\n",
    "Tab auto-completion.\n",
    "In-line editing of code.\n",
    "Object introspection, and automatic extract of documentation strings from python objects like classes and functions.\n",
    "Good interaction with operating system shell.\n",
    "Support for multiple parallel back-end processes, that can run on computing clusters or cloud services like Amazon EE2."
   ]
  },
  {
   "cell_type": "markdown",
   "metadata": {},
   "source": [
    "## Jupyter notebook\n",
    "\n",
    "<a href=\"http://ipython.org/notebook.html\">Jupyter notebook</a> is an HTML-based notebook environment for Python, similar to Mathematica or Maple. It is based on the IPython shell, but provides a cell-based environment with great interactivity, where calculations can be organized and documented in a structured way.\n",
    "\n",
    "<img src=\"images/ipython-notebook-screenshot.jpg\" widt=\"600\">\n",
    "\n",
    "Although using a web browser as graphical interface, IPython notebooks are usually run locally, from the same computer that run the browser. To start a new Jupyter notebook session, run the following command:\n",
    "\n",
    "$ jupyter-notebook\n",
    "\n",
    "from a directory where you want the notebooks to be stored. This will open a new browser window (or a new tab in an existing window) with an index page where existing notebooks are shown and from which new notebooks can be created. Usually, the URL for the Jupyter notebook is <http://localhost:8888>"
   ]
  },
  {
   "cell_type": "markdown",
   "metadata": {},
   "source": [
    "## NumPy"
   ]
  },
  {
   "cell_type": "markdown",
   "metadata": {},
   "source": [
    "<a href=\"http://www.numpy.org\">NumPy</a> is the main Python package for working with N-dimensional arrays. Any list of numbers can be recast as a NumPy array:"
   ]
  },
  {
   "cell_type": "code",
   "execution_count": 10,
   "metadata": {
    "collapsed": false
   },
   "outputs": [
    {
     "data": {
      "text/plain": [
       "array([1, 5, 3, 4, 2])"
      ]
     },
     "execution_count": 10,
     "metadata": {},
     "output_type": "execute_result"
    }
   ],
   "source": [
    "import numpy as np\n",
    "x = np.array([1, 5, 3, 4, 2])\n",
    "x"
   ]
  },
  {
   "cell_type": "markdown",
   "metadata": {},
   "source": [
    "Arrays have a number of useful methods associated with them:"
   ]
  },
  {
   "cell_type": "code",
   "execution_count": 12,
   "metadata": {
    "collapsed": false
   },
   "outputs": [
    {
     "name": "stdout",
     "output_type": "stream",
     "text": [
      "1 5 15 0 1\n"
     ]
    }
   ],
   "source": [
    "print x.min(), x.max(), x.sum(), x.argmin(), x.argmax() "
   ]
  },
  {
   "cell_type": "markdown",
   "metadata": {},
   "source": [
    "and NumPy functions can act on arrays in an elementwise fashion: "
   ]
  },
  {
   "cell_type": "code",
   "execution_count": 9,
   "metadata": {
    "collapsed": false
   },
   "outputs": [
    {
     "data": {
      "text/plain": [
       "array([ 0.01745241,  0.0348995 ,  0.05233596,  0.06975647,  0.08715574])"
      ]
     },
     "execution_count": 9,
     "metadata": {},
     "output_type": "execute_result"
    }
   ],
   "source": [
    "np.sin(x * np.pi / 180.)"
   ]
  },
  {
   "cell_type": "markdown",
   "metadata": {},
   "source": [
    "Ranges of values are easily produced:"
   ]
  },
  {
   "cell_type": "code",
   "execution_count": 13,
   "metadata": {
    "collapsed": false
   },
   "outputs": [
    {
     "data": {
      "text/plain": [
       "array([ 1. ,  1.5,  2. ,  2.5,  3. ,  3.5,  4. ,  4.5,  5. ,  5.5,  6. ,\n",
       "        6.5,  7. ,  7.5,  8. ,  8.5,  9. ,  9.5])"
      ]
     },
     "execution_count": 13,
     "metadata": {},
     "output_type": "execute_result"
    }
   ],
   "source": [
    "np.arange(1, 10, 0.5)"
   ]
  },
  {
   "cell_type": "code",
   "execution_count": 14,
   "metadata": {
    "collapsed": false
   },
   "outputs": [
    {
     "data": {
      "text/plain": [
       "array([  1.  ,   3.25,   5.5 ,   7.75,  10.  ])"
      ]
     },
     "execution_count": 14,
     "metadata": {},
     "output_type": "execute_result"
    }
   ],
   "source": [
    "np.linspace(1, 10, 5)"
   ]
  },
  {
   "cell_type": "code",
   "execution_count": 16,
   "metadata": {
    "collapsed": false
   },
   "outputs": [
    {
     "data": {
      "text/plain": [
       "array([   10.        ,    31.6227766 ,   100.        ,   316.22776602,\n",
       "        1000.        ])"
      ]
     },
     "execution_count": 16,
     "metadata": {},
     "output_type": "execute_result"
    }
   ],
   "source": [
    "np.logspace(1, 3, 5)"
   ]
  },
  {
   "cell_type": "markdown",
   "metadata": {},
   "source": [
    "Random numbers are also easily generated in the half-open interval [0, 1):"
   ]
  },
  {
   "cell_type": "code",
   "execution_count": 17,
   "metadata": {
    "collapsed": false
   },
   "outputs": [
    {
     "data": {
      "text/plain": [
       "array([ 0.32236496,  0.21506812,  0.43010248,  0.00518381,  0.76868494,\n",
       "        0.40007316,  0.54393627,  0.47369813,  0.84379927,  0.64993354])"
      ]
     },
     "execution_count": 17,
     "metadata": {},
     "output_type": "execute_result"
    }
   ],
   "source": [
    "np.random.random(10)"
   ]
  },
  {
   "cell_type": "markdown",
   "metadata": {},
   "source": [
    "or from one of the large number of statistical distributions provided:"
   ]
  },
  {
   "cell_type": "code",
   "execution_count": 18,
   "metadata": {
    "collapsed": false
   },
   "outputs": [
    {
     "data": {
      "text/plain": [
       "array([ 0.0923285 ,  7.42538429,  1.76331778, -3.53594575,  8.68638027,\n",
       "        2.71567963,  3.7712319 , -1.98054188, -0.82563295,  0.08646263])"
      ]
     },
     "execution_count": 18,
     "metadata": {},
     "output_type": "execute_result"
    }
   ],
   "source": [
    "np.random.normal(loc = 2.5, scale = 5, size = 10)"
   ]
  },
  {
   "cell_type": "markdown",
   "metadata": {},
   "source": [
    "Another useful method is the <i>where</i> function for identifying elements that satisfy a particular condition: "
   ]
  },
  {
   "cell_type": "code",
   "execution_count": 19,
   "metadata": {
    "collapsed": false
   },
   "outputs": [
    {
     "data": {
      "text/plain": [
       "(array([26]),)"
      ]
     },
     "execution_count": 19,
     "metadata": {},
     "output_type": "execute_result"
    }
   ],
   "source": [
    "x = np.random.normal(size = 100)\n",
    "np.where(x > 3.)"
   ]
  },
  {
   "cell_type": "markdown",
   "metadata": {},
   "source": [
    "Of course, all of these work equally well with multidimensional arrays."
   ]
  },
  {
   "cell_type": "code",
   "execution_count": 25,
   "metadata": {
    "collapsed": false
   },
   "outputs": [
    {
     "data": {
      "text/plain": [
       "array([[ 0.84147098,  0.90929743,  0.14112001, -0.7568025 , -0.95892427],\n",
       "       [-0.2794155 ,  0.6569866 ,  0.98935825,  0.41211849, -0.54402111]])"
      ]
     },
     "execution_count": 25,
     "metadata": {},
     "output_type": "execute_result"
    }
   ],
   "source": [
    "x = np.array([[1, 2, 3, 4, 5], [6, 7, 8, 9, 10]])\n",
    "np.sin(x)"
   ]
  },
  {
   "cell_type": "markdown",
   "metadata": {},
   "source": [
    "Data can also be automatically loaded from a file into a Numpy array via the <i>loadtxt</i> or <i>genfromtxt</i> methods:"
   ]
  },
  {
   "cell_type": "code",
   "execution_count": null,
   "metadata": {
    "collapsed": false
   },
   "outputs": [],
   "source": [
    "data = np.loadtxt(\"somefile.csv\", delimiter = \",\", skiprows = 3)"
   ]
  },
  {
   "cell_type": "markdown",
   "metadata": {},
   "source": [
    "## SciPy"
   ]
  },
  {
   "cell_type": "markdown",
   "metadata": {},
   "source": [
    "<a href=\"http://www.scipy.org\">SciPy</a> provides a number of subpackages that deal with common operations in scientific computing, such as numerical integration, optimization, interpolation, Fourier transforms and linear algebra."
   ]
  },
  {
   "cell_type": "code",
   "execution_count": 33,
   "metadata": {
    "collapsed": false
   },
   "outputs": [
    {
     "name": "stdout",
     "output_type": "stream",
     "text": [
      "(1.6346035509274763, 1.1580617576001373e-08)\n",
      "(1.2743983238992254, 1.1301087878068563e-08)\n",
      "(1.4332524555959525, 5.534144099065977e-11)\n"
     ]
    }
   ],
   "source": [
    "f = lambda x: np.cos(-x ** 2 / 9.)\n",
    "\n",
    "x = np.linspace(0, 10, 11)\n",
    "y = f(x)\n",
    "\n",
    "from scipy.interpolate import interp1d\n",
    "f1 = interp1d(x, y)\n",
    "f2 = interp1d(x, y, kind = 'cubic')\n",
    "\n",
    "from scipy.integrate import quad\n",
    "print quad(f1, 0, 10)\n",
    "print quad(f2, 0, 10)\n",
    "print quad(f, 0, 10)"
   ]
  },
  {
   "cell_type": "markdown",
   "metadata": {},
   "source": [
    "## Scikit-learn"
   ]
  },
  {
   "cell_type": "markdown",
   "metadata": {},
   "source": [
    "<a href=\"http://scikit-learn.org\">scikit-learn</a> provides algorithms for machine learning tasks, such as classification, regression, and clustering, as well as associated operations, such as cross-validation and feature normalization. A related module is <a href=\"http://www.astroml.org\">astroML</a> which is a wrapper around a lot of the scikit-learn routines but also offers some additional functionality and faster/alternate implementations of some methods."
   ]
  },
  {
   "cell_type": "markdown",
   "metadata": {},
   "source": [
    "## Pandas"
   ]
  },
  {
   "cell_type": "markdown",
   "metadata": {},
   "source": [
    "<a href=\"http://pandas.pydata.org/index.html\">pandas</a> offers data structures, particularly data frames, and operations for manipulating numerical tables and time series, such as fancy indexing, reshaping and pivoting, and merging, as well as a number of analysis tools. Although similar functionality already exists in numpy, pandas is highly optimized for performance and large data sets."
   ]
  },
  {
   "cell_type": "markdown",
   "metadata": {},
   "source": [
    "## AstroPy"
   ]
  },
  {
   "cell_type": "markdown",
   "metadata": {},
   "source": [
    "<a href=\"http://www.astropy.org\">AstroPy</a> aims to provide a core set of subpackages to specifically support astronomy. These include methods to work with image and table data formats, e.g., FITS, VOTable, etc., along with astronomical coordinate and unit systems, and cosmological calculations."
   ]
  },
  {
   "cell_type": "code",
   "execution_count": 38,
   "metadata": {
    "collapsed": false
   },
   "outputs": [
    {
     "name": "stdout",
     "output_type": "stream",
     "text": [
      "00h42m30s +41d12m00s\n",
      "<SkyCoord (Galactic): (l, b) in deg\n",
      "    (121.12334339, -21.6403587)>\n"
     ]
    }
   ],
   "source": [
    "from astropy import units as u\n",
    "from astropy.coordinates import SkyCoord\n",
    "\n",
    "c = SkyCoord(ra = 10.625 * u.degree, dec = 41.2 * u.degree, frame = 'icrs')\n",
    "print c.to_string('hmsdms')\n",
    "print c.galactic"
   ]
  },
  {
   "cell_type": "code",
   "execution_count": 39,
   "metadata": {
    "collapsed": false
   },
   "outputs": [
    {
     "name": "stdout",
     "output_type": "stream",
     "text": [
      "3944.5841858 Mpc 8875.31441806 Mpc\n"
     ]
    }
   ],
   "source": [
    "from astropy.cosmology import WMAP9 as cosmo\n",
    "print cosmo.comoving_distance(1.25), cosmo.luminosity_distance(1.25)"
   ]
  },
  {
   "cell_type": "code",
   "execution_count": null,
   "metadata": {
    "collapsed": false
   },
   "outputs": [],
   "source": [
    "from astropy.io import fits\n",
    "hdulist = fits.open('someimage.fits')\n",
    "hdulist.info()"
   ]
  },
  {
   "cell_type": "code",
   "execution_count": null,
   "metadata": {
    "collapsed": false
   },
   "outputs": [],
   "source": [
    "from astropy.io.votable import parse\n",
    "votable = parse('sometable.xml')\n",
    "table = votable.get_first_table()\n",
    "data = table.array"
   ]
  },
  {
   "cell_type": "markdown",
   "metadata": {},
   "source": [
    "A useful affiliated package is <a href=\"https://astroquery.readthedocs.org\">Astroquery</a> which provides tools for querying astronomical web forms and databases. This is not part of the regular AstroPy distribution and needs to be installed separately. Whereas many data archives have standardized VO interfaces to support data access, Astroquery mimics a web browser and provides access via an archive's form interface. This can be useful as not all provided information is necesarily available via the VO.  "
   ]
  },
  {
   "cell_type": "markdown",
   "metadata": {},
   "source": [
    "For example, the <a href=\"http://ned.ipac.caltech.edu\">NASA Extragalactic Database</a> is a very useful human-curated resource for extragalactic objects. However, a lot of the information that is available via the web pages is not available through an easy programmatic API. Let's say that we want to get the list of object types associated with a particulae source:"
   ]
  },
  {
   "cell_type": "code",
   "execution_count": 41,
   "metadata": {
    "collapsed": false
   },
   "outputs": [
    {
     "data": {
      "text/plain": [
       "{'G', 'RadioS', 'UvS'}"
      ]
     },
     "execution_count": 41,
     "metadata": {},
     "output_type": "execute_result"
    }
   ],
   "source": [
    "from astroquery.ned import Ned\n",
    "co = SkyCoord(ra = 56.38, dec = 38.43, unit = (u.deg, u.deg))\n",
    "result = Ned.query_region(co, radius = 0.07 * u.deg)\n",
    "set(result.columns['Type'])"
   ]
  },
  {
   "cell_type": "markdown",
   "metadata": {},
   "source": [
    "## Other libraries"
   ]
  },
  {
   "cell_type": "markdown",
   "metadata": {},
   "source": [
    "For some of the other lectures or projects this week, you might also need to install the following Python packages:\n",
    "\n",
    "<ul>\n",
    "<li> photutils\n",
    "<li> glue\n",
    "</ul>"
   ]
  }
 ],
 "metadata": {
  "kernelspec": {
   "display_name": "Python 2",
   "language": "python",
   "name": "python2"
  },
  "language_info": {
   "codemirror_mode": {
    "name": "ipython",
    "version": 2
   },
   "file_extension": ".py",
   "mimetype": "text/x-python",
   "name": "python",
   "nbconvert_exporter": "python",
   "pygments_lexer": "ipython2",
   "version": "2.7.11"
  }
 },
 "nbformat": 4,
 "nbformat_minor": 0
}
