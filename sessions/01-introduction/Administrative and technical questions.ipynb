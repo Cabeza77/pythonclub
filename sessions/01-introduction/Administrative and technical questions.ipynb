{
 "cells": [
  {
   "cell_type": "markdown",
   "metadata": {},
   "source": [
    "## Welcome to the Python Club at the Institute of Astrophysics\n",
    "\n",
    "We will meet every two Wednesday at 5 pm in the Seminar room. The moderators will be Josh Tan, Roberto Muñoz and Marcelo Mora. The Python Club will mostly consits of hands-on tutorials and everyone can volunteer to give one.\n",
    "\n",
    "The idea is inviting beginners and advanced Python users to the meeting, so we can interact each other, teach and learn.\n",
    "\n",
    "You are welcome to bring your laptop to follow the tutorials. All the talks, tutorials and code will be uploaded to the Github repository."
   ]
  },
  {
   "cell_type": "markdown",
   "metadata": {},
   "source": [
    "### How to participate of the Python Club?\n",
    "\n",
    "First, coming to the meetings every two weeks. Then, sharing information in the google group. And for sure, forking the Github repository and doing pull-requests oftenly.\n",
    "\n",
    "**Python Club Google Group:** <https://groups.google.com/d/forum/astro-puc-python-club>\n",
    "\n",
    "**Python Club email:** <astro-puc-python-club@googlegroups.com>\n",
    "\n",
    "**Python Club webpage:** <http://pucdata.github.io>\n",
    "\n",
    "**Python club Github repository:** <https://github.com/pucdata/pythonclub>\n"
   ]
  },
  {
   "cell_type": "markdown",
   "metadata": {},
   "source": [
    "### Survey about Python\n",
    "\n",
    "We will run several surveys along the term. The first survey will about the skill level in Python programming and what version are you using?\n",
    "\n",
    "https://pollev.com/pucdatalab232"
   ]
  },
  {
   "cell_type": "markdown",
   "metadata": {},
   "source": [
    "### Learning the basics about Python\n",
    "\n",
    "If you know nothing or little about Python, please take the free Python courses in <a href=\"https://www.datacamp.com\">DataCamp</a>, <a href=\"https://www.coursera.org\">Coursera</a> and <a href=\"https://www.edx.org\">EdX</a>."
   ]
  },
  {
   "cell_type": "code",
   "execution_count": null,
   "metadata": {
    "collapsed": true
   },
   "outputs": [],
   "source": []
  }
 ],
 "metadata": {
  "kernelspec": {
   "display_name": "Python 2",
   "language": "python",
   "name": "python2"
  },
  "language_info": {
   "codemirror_mode": {
    "name": "ipython",
    "version": 2
   },
   "file_extension": ".py",
   "mimetype": "text/x-python",
   "name": "python",
   "nbconvert_exporter": "python",
   "pygments_lexer": "ipython2",
   "version": "2.7.11"
  }
 },
 "nbformat": 4,
 "nbformat_minor": 1
}
